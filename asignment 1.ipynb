{
 "cells": [
  {
   "cell_type": "markdown",
   "id": "aaca4f70-2dad-4ebd-a097-e69c13c79ebf",
   "metadata": {},
   "source": [
    "#q1\n",
    "a=\"abhishek\"\n",
    "b=[1,2,3,4]\n",
    "c=22.45\n",
    "d=(1,2,3)"
   ]
  },
  {
   "cell_type": "raw",
   "id": "a22ae8a9-16fc-4e3b-a68e-93b2887a3bad",
   "metadata": {},
   "source": [
    "#q2\n",
    "var1=string\n",
    "var2=string\n",
    "var3=list\n",
    "var4=float"
   ]
  },
  {
   "cell_type": "raw",
   "id": "80a2e947-7eb6-4abf-916a-03e648237e04",
   "metadata": {},
   "source": [
    "q3\n",
    "/ is used for division\n",
    "% is used for modulus division\n",
    "// is used for floor division\n",
    "** is used for exponent"
   ]
  },
  {
   "cell_type": "markdown",
   "id": "21419c6c-807d-4a15-ae8b-ad43afb7a5b0",
   "metadata": {},
   "source": [
    "#q4\n",
    "l=[1,2.1,4+2j,3,4,\"abhi\",7,8,9]\n",
    "for i in l:\n",
    "    print(i)"
   ]
  },
  {
   "cell_type": "markdown",
   "id": "e7896051-7864-46be-90ee-dfd59025eb20",
   "metadata": {},
   "source": [
    "#q5\n",
    "number_A = int(input(\"Enter the value of A: \"))\n",
    "number_B = int(input(\"Enter the value of B: \"))\n",
    "count = 0\n",
    "while number_A % number_B == 0:\n",
    "    count += 1\n",
    "    number_A //= number_B\n",
    "    \n",
    "if count > 0:\n",
    "    print(f\"{number_A} is purely divisible by {number_B} and can be divided {count} times.\")\n",
    "else:\n",
    "    print(f\"{number_A} is not purely divisible by {number_B}.\")"
   ]
  },
  {
   "cell_type": "markdown",
   "id": "1a326f2b-b845-444c-89ab-42eddcf9f177",
   "metadata": {},
   "source": [
    "#q6\n",
    "int_list = [17, 6, 10, 24, 9, 5, 18, 7, 15, 30, 11, 8, 21, 12, 3, 14, 27, 22, 19, 2, 13, 20, 16, 25, 4]\n",
    "\n",
    "for num in int_list:\n",
    "    if num % 3 == 0:\n",
    "        print(f\"{num} is divisible by 3\")\n",
    "    else:\n",
    "        print(f\"{num} is not divisible by 3\")"
   ]
  },
  {
   "cell_type": "markdown",
   "id": "5864d6db-96df-45e8-882d-edd44c4caf57",
   "metadata": {},
   "source": [
    "#q7\n",
    "Mutable data types:These are modified after creating\n",
    "for example list , dictionary\n",
    "\n",
    "l=[1,2,3,4]\n",
    "l.append(4)\n",
    "\n",
    "So we can add an element after creating object\n",
    "\n",
    "Immutable data types:These are cannot be modified once created\n",
    "for example string ,tuples\n",
    "\n",
    "y=(1,2,3)\n",
    "y[0]=0\n",
    " it shows error we cannot modify elements once created"
   ]
  }
 ],
 "metadata": {
  "kernelspec": {
   "display_name": "Python 3 (ipykernel)",
   "language": "python",
   "name": "python3"
  },
  "language_info": {
   "codemirror_mode": {
    "name": "ipython",
    "version": 3
   },
   "file_extension": ".py",
   "mimetype": "text/x-python",
   "name": "python",
   "nbconvert_exporter": "python",
   "pygments_lexer": "ipython3",
   "version": "3.10.8"
  }
 },
 "nbformat": 4,
 "nbformat_minor": 5
}
